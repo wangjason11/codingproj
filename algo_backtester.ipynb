{
 "cells": [
  {
   "cell_type": "code",
   "execution_count": null,
   "id": "7f744a86",
   "metadata": {},
   "outputs": [],
   "source": [
    "import pandas as pd\n",
    "import pandas_ta as ta\n",
    "import numpy as np\n",
    "import matplotlib.pyplot as plt\n",
    "import AlgoBacktester\n",
    "import math\n",
    "import time\n",
    "import tpqoa\n",
    "from datetime import datetime, timedelta\n",
    "# from itertools import product\n",
    "plt.style.use(\"seaborn\")"
   ]
  },
  {
   "cell_type": "code",
   "execution_count": null,
   "id": "d3c7ea51",
   "metadata": {},
   "outputs": [],
   "source": [
    "trader = AlgoBacktester(r\"oanda.cfg\", \"EUR_USD\", \"15min\", start = \"2022-01-01\", end = \"2022-05-13\", begin_cash = 50000.0)"
   ]
  },
  {
   "cell_type": "code",
   "execution_count": null,
   "id": "90e178e9",
   "metadata": {},
   "outputs": [],
   "source": [
    "trader.raw_data.head(20)"
   ]
  },
  {
   "cell_type": "code",
   "execution_count": null,
   "id": "f73dfc04",
   "metadata": {},
   "outputs": [],
   "source": [
    "trader.ema_crossover(short = 50, longg = 200)"
   ]
  },
  {
   "cell_type": "code",
   "execution_count": null,
   "id": "36e0e0b9",
   "metadata": {},
   "outputs": [],
   "source": [
    "trader.data.head(20)"
   ]
  },
  {
   "cell_type": "code",
   "execution_count": null,
   "id": "2d2890e1",
   "metadata": {},
   "outputs": [],
   "source": [
    "trader.macd_crossover(short = 8, longg = 21, signal = 5)"
   ]
  },
  {
   "cell_type": "code",
   "execution_count": null,
   "id": "e6b2d85d",
   "metadata": {},
   "outputs": [],
   "source": [
    "trader.data.head(20)"
   ]
  },
  {
   "cell_type": "code",
   "execution_count": null,
   "id": "b5cc8d0f",
   "metadata": {},
   "outputs": [],
   "source": [
    "trader.rsi(window = 13)"
   ]
  },
  {
   "cell_type": "code",
   "execution_count": null,
   "id": "e601acfc",
   "metadata": {},
   "outputs": [],
   "source": [
    "trader.data.head(20)"
   ]
  },
  {
   "cell_type": "code",
   "execution_count": null,
   "id": "56f77c19",
   "metadata": {},
   "outputs": [],
   "source": [
    "trader.rsi(window = 5)"
   ]
  },
  {
   "cell_type": "code",
   "execution_count": null,
   "id": "ceeefdda",
   "metadata": {},
   "outputs": [],
   "source": [
    "trader.data.head(20)"
   ]
  },
  {
   "cell_type": "code",
   "execution_count": null,
   "id": "86f64e82",
   "metadata": {},
   "outputs": [],
   "source": [
    "trader.consensus_trend()"
   ]
  },
  {
   "cell_type": "code",
   "execution_count": null,
   "id": "a77dea45",
   "metadata": {},
   "outputs": [],
   "source": [
    "trader.data.head(20)"
   ]
  },
  {
   "cell_type": "code",
   "execution_count": null,
   "id": "44eef50d",
   "metadata": {},
   "outputs": [],
   "source": [
    "trader.ma_crossover(short = (5, \"EMA\"), longg = (11, \"EMA\"))"
   ]
  },
  {
   "cell_type": "code",
   "execution_count": null,
   "id": "2d59f0c7",
   "metadata": {},
   "outputs": [],
   "source": [
    "trader.data.head(20)"
   ]
  },
  {
   "cell_type": "code",
   "execution_count": null,
   "id": "b2c004fb",
   "metadata": {},
   "outputs": [],
   "source": [
    "trader.ma_crossover(short = (13, \"EMA\"), longg = (36, \"SMA\"))"
   ]
  },
  {
   "cell_type": "code",
   "execution_count": null,
   "id": "4e3ab807",
   "metadata": {},
   "outputs": [],
   "source": [
    "trader.data.head(20)"
   ]
  },
  {
   "cell_type": "code",
   "execution_count": null,
   "id": "18e60dd0",
   "metadata": {},
   "outputs": [],
   "source": [
    "trader.volatility_osc(length = 100)"
   ]
  },
  {
   "cell_type": "code",
   "execution_count": null,
   "id": "d2d00f96",
   "metadata": {},
   "outputs": [],
   "source": [
    "trader.data.head(20)"
   ]
  },
  {
   "cell_type": "code",
   "execution_count": null,
   "id": "511e55de",
   "metadata": {},
   "outputs": [],
   "source": [
    "trader.swing(left = 5, right = 5 )"
   ]
  },
  {
   "cell_type": "code",
   "execution_count": null,
   "id": "c9b8b3fd",
   "metadata": {},
   "outputs": [],
   "source": [
    "trader.data.head(20)"
   ]
  },
  {
   "cell_type": "code",
   "execution_count": null,
   "id": "e0890ce8",
   "metadata": {},
   "outputs": [],
   "source": [
    "trader.test_strategy()\n",
    "no_swing_stop = trader.results\n",
    "trader.plot_results()"
   ]
  },
  {
   "cell_type": "code",
   "execution_count": null,
   "id": "17c933cc",
   "metadata": {},
   "outputs": [],
   "source": [
    "trader.test_strategy(swing_stop = True)\n",
    "swing_stop = trader.results\n",
    "trader.plot_results()"
   ]
  }
 ],
 "metadata": {
  "kernelspec": {
   "display_name": "Python 3 (ipykernel)",
   "language": "python",
   "name": "python3"
  },
  "language_info": {
   "codemirror_mode": {
    "name": "ipython",
    "version": 3
   },
   "file_extension": ".py",
   "mimetype": "text/x-python",
   "name": "python",
   "nbconvert_exporter": "python",
   "pygments_lexer": "ipython3",
   "version": "3.9.7"
  }
 },
 "nbformat": 4,
 "nbformat_minor": 5
}
