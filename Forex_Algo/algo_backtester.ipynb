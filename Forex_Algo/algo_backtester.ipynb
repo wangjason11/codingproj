{
 "cells": [
  {
   "cell_type": "code",
   "execution_count": 1,
   "id": "fd6ac078",
   "metadata": {},
   "outputs": [],
   "source": [
    "# import pandas as pd\n",
    "# import pandas_ta as ta\n",
    "# import numpy as np\n",
    "# import matplotlib.pyplot as plt\n",
    "from algotrader import TrendAlgoBacktester\n",
    "# import math\n",
    "# import time\n",
    "# import tpqoa\n",
    "# from datetime import datetime, timedelta\n",
    "# from itertools import product\n",
    "# plt.style.use(\"seaborn\")"
   ]
  },
  {
   "cell_type": "code",
   "execution_count": 2,
   "id": "1c0d97aa",
   "metadata": {},
   "outputs": [],
   "source": [
    "trader = TrendAlgoBacktester(r\"C:\\Users\\wangj\\Documents\\codingproj\\Project Retire\\Forex_Algo\\oanda.cfg\", \"EUR_USD\", \"M15\", \"2022-01-01\", \"2022-05-13\", 50000.0, 0.02, 50, 1.0)"
   ]
  },
  {
   "cell_type": "code",
   "execution_count": 3,
   "id": "89f413ae",
   "metadata": {},
   "outputs": [],
   "source": [
    "trader.ema_crossover(short = 50, longg = 200)\n",
    "trader.macd_crossover(short = 8, longg = 21, signal = 5)\n",
    "trader.rsi(window = 13)\n",
    "trader.rsi(window = 5)\n",
    "trader.consensus_trend()\n",
    "trader.ma_crossover(short = (5, \"EMA\"), longg = (11, \"EMA\"))\n",
    "trader.ma_crossover(short = (13, \"EMA\"), longg = (36, \"SMA\"))\n",
    "trader.volatility_osc(length = 100)\n",
    "trader.swing(left = 5, right = 5 )"
   ]
  },
  {
   "cell_type": "code",
   "execution_count": 4,
   "id": "bc9859fc",
   "metadata": {},
   "outputs": [
    {
     "data": {
      "text/plain": [
       "(0.919761, 4.533186, 3.613424, 2.153271, 1.23351, 1.288407, 0.368646)"
      ]
     },
     "execution_count": 4,
     "metadata": {},
     "output_type": "execute_result"
    }
   ],
   "source": [
    "trader.test_strategy(swing_stop = True)"
   ]
  },
  {
   "cell_type": "code",
   "execution_count": 5,
   "id": "2f3a36c6",
   "metadata": {},
   "outputs": [],
   "source": [
    "trader.results.to_csv(\"trade_results.csv\", index=False, header=True)"
   ]
  },
  {
   "cell_type": "code",
   "execution_count": null,
   "id": "f271be00",
   "metadata": {},
   "outputs": [],
   "source": [
    "     "
   ]
  }
 ],
 "metadata": {
  "kernelspec": {
   "display_name": "Python 3 (ipykernel)",
   "language": "python",
   "name": "python3"
  },
  "language_info": {
   "codemirror_mode": {
    "name": "ipython",
    "version": 3
   },
   "file_extension": ".py",
   "mimetype": "text/x-python",
   "name": "python",
   "nbconvert_exporter": "python",
   "pygments_lexer": "ipython3",
   "version": "3.9.7"
  }
 },
 "nbformat": 4,
 "nbformat_minor": 5
}
